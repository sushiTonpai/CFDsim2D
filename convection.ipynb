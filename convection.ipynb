{
 "cells": [
  {
   "cell_type": "markdown",
   "metadata": {},
   "source": [
    "## convection \n",
    "\n",
    "$$\n",
    "\\frac{\\partial u}{\\partial t} = c \\frac{\\partial u}{\\partial x}\n",
    "$$\n",
    "\n",
    "$ u(x_{0},t_{0})\\Rightarrow u(3,0) = 2$\n",
    "\n",
    "$$\n",
    "u^{n+1}_{i} = u^{n}_{i} - c\\frac{\\Delta t}{\\Delta x}(u^{n}_{i} - u^{n}_{i-1})\n",
    "$$\n",
    "\n",
    "where $u^{n+1}_{i}$ is next time step of position $i$ "
   ]
  },
  {
   "cell_type": "code",
   "execution_count": 2,
   "metadata": {},
   "outputs": [],
   "source": [
    "import numpy as np\n",
    "import matplotlib.pyplot as plt\n",
    "from matplotlib import animation, rc "
   ]
  },
  {
   "cell_type": "code",
   "execution_count": 16,
   "metadata": {},
   "outputs": [],
   "source": [
    "# constants\n",
    "c = 1\n",
    "\n",
    "nx = 50\n",
    "x_length = 10\n",
    "time_step = 200\n",
    "dt = 0.1\n",
    "dx = x_length/(nx-1)\n",
    "\n",
    "# init\n",
    "u0 = np.zeros(nx)\n",
    "u0[int(3/dx)] = 2 \n",
    "\n"
   ]
  },
  {
   "cell_type": "code",
   "execution_count": 24,
   "metadata": {},
   "outputs": [
    {
     "data": {
      "text/plain": [
       "[<matplotlib.lines.Line2D at 0x19dba430a30>]"
      ]
     },
     "execution_count": 24,
     "metadata": {},
     "output_type": "execute_result"
    },
    {
     "data": {
      "image/png": "[encoded data removed]",
      "text/plain": [
       "<Figure size 432x288 with 1 Axes>"
      ]
     },
     "metadata": {
      "needs_background": "light"
     },
     "output_type": "display_data"
    }
   ],
   "source": [
    "xs = np.linspace(0,x_length)\n",
    "plt.plot(xs,u0)"
   ]
  },
  {
   "cell_type": "code",
   "execution_count": 29,
   "metadata": {},
   "outputs": [
    {
     "data": {
      "image/png": "[encoded data removed]",
      "text/plain": [
       "<Figure size 432x288 with 1 Axes>"
      ]
     },
     "metadata": {
      "needs_background": "light"
     },
     "output_type": "display_data"
    }
   ],
   "source": [
    "# finite difference\n",
    "new_u = u0.copy()\n",
    "for _ in range(2):    \n",
    "    for i in range(1,nx):\n",
    "        u0[i] = new_u[i] - c* (dt/dx) * (new_u[i] - new_u[i-1])\n",
    "        \n",
    "\n",
    "'''      \n",
    "xs = np.linspace(0,x_length)\n",
    "plt.plot(xs,u0)\n",
    "plt.plot(xs,new_u,color = 'red')\n",
    "plt.show()\n",
    "'''\n"
   ]
  },
  {
   "cell_type": "code",
   "execution_count": 13,
   "metadata": {},
   "outputs": [
    {
     "name": "stderr",
     "output_type": "stream",
     "text": [
      "MovieWriter ffmpeg unavailable; using Pillow instead.\n"
     ]
    },
    {
     "data": {
      "text/plain": [
       "<function matplotlib.pyplot.show(close=None, block=None)>"
      ]
     },
     "execution_count": 13,
     "metadata": {},
     "output_type": "execute_result"
    },
    {
     "data": {
      "image/png": "[encoded data removed]",
      "text/plain": [
       "<Figure size 432x288 with 1 Axes>"
      ]
     },
     "metadata": {
      "needs_background": "light"
     },
     "output_type": "display_data"
    }
   ],
   "source": [
    "fig, ax = plt.subplots()\n",
    "ax = plt.axes(xlim=(0, x_length), ylim=(0, 2))\n",
    "line, = ax.plot([], [], lw=2)\n",
    "\n",
    "def init():\n",
    "    line.set_data([],[])\n",
    "    return (line,)\n",
    "\n",
    "def animate(frame):\n",
    "    xs = np.linspace(0,x_length)\n",
    "    new_u = u0.copy()\n",
    "    for _ in range(time_step):        \n",
    "        for i in range(1,nx):\n",
    "            u0[i] = new_u[i] - c* (dt/dx) * (new_u[i] - new_u[i-1])\n",
    "    line.set_data(xs,new_u)\n",
    "    return (line,)\n",
    "\n",
    "anim = animation.FuncAnimation(fig, animate, init_func=init,\n",
    "                               frames=time_step)\n",
    "anim.save('convection 1d.gif', fps = 20)\n",
    "plt.show"
   ]
  }
 ],
 "metadata": {
  "kernelspec": {
   "display_name": "Python 3",
   "language": "python",
   "name": "python3"
  },
  "language_info": {
   "codemirror_mode": {
    "name": "ipython",
    "version": 3
   },
   "file_extension": ".py",
   "mimetype": "text/x-python",
   "name": "python",
   "nbconvert_exporter": "python",
   "pygments_lexer": "ipython3",
   "version": "3.9.7"
  }
 },
 "nbformat": 4,
 "nbformat_minor": 4
}
