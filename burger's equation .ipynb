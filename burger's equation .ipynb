{
 "cells": [
  {
   "cell_type": "markdown",
   "metadata": {},
   "source": [
    "## burger's equation \n",
    "$$\n",
    "\\frac{\\partial u}{\\partial t} + \\frac{\\partial u}{\\partial x}= v \\frac{\\partial^2 u}{\\partial x^2}\n",
    "$$\n",
    "IC\n",
    "$$\n",
    "u = -\\frac{2v}{\\phi} \\frac{\\partial\\phi}{\\partial x} + 4\\\\\n",
    "\\phi = exp(\\frac{-x^{2}}{4v}) + exp(\\frac{-(x-2\\pi)^{2}}{4v})\n",
    "$$\n",
    "BC \n",
    "$$ \n",
    "u(0) = u(2\\pi)\n",
    "$$"
   ]
  },
  {
   "cell_type": "code",
   "execution_count": 34,
   "metadata": {},
   "outputs": [
    {
     "ename": "ModuleNotFoundError",
     "evalue": "No module named 'sympy'",
     "output_type": "error",
     "traceback": [
      "\u001b[1;31m---------------------------------------------------------------------------\u001b[0m",
      "\u001b[1;31mModuleNotFoundError\u001b[0m                       Traceback (most recent call last)",
      "\u001b[1;32m<ipython-input-34-f5f9e46dc9ef>\u001b[0m in \u001b[0;36m<module>\u001b[1;34m\u001b[0m\n\u001b[0;32m      3\u001b[0m \u001b[1;32mfrom\u001b[0m \u001b[0mmatplotlib\u001b[0m \u001b[1;32mimport\u001b[0m \u001b[0manimation\u001b[0m\u001b[1;33m,\u001b[0m \u001b[0mrc\u001b[0m\u001b[1;33m\u001b[0m\u001b[1;33m\u001b[0m\u001b[0m\n\u001b[0;32m      4\u001b[0m \u001b[1;32mfrom\u001b[0m \u001b[0mscipy\u001b[0m\u001b[1;33m.\u001b[0m\u001b[0mmisc\u001b[0m \u001b[1;32mimport\u001b[0m \u001b[0mderivative\u001b[0m\u001b[1;33m\u001b[0m\u001b[1;33m\u001b[0m\u001b[0m\n\u001b[1;32m----> 5\u001b[1;33m \u001b[1;32mimport\u001b[0m \u001b[0msympy\u001b[0m\u001b[1;33m\u001b[0m\u001b[1;33m\u001b[0m\u001b[0m\n\u001b[0m",
      "\u001b[1;31mModuleNotFoundError\u001b[0m: No module named 'sympy'"
     ]
    }
   ],
   "source": [
    "import numpy as np\n",
    "import matplotlib.pyplot as plt\n",
    "from matplotlib import animation, rc \n",
    "from scipy.misc import derivative"
   ]
  },
  {
   "cell_type": "code",
   "execution_count": 102,
   "metadata": {},
   "outputs": [],
   "source": [
    "# constants\n",
    "v =0.2\n",
    "\n",
    "nx = 60\n",
    "x = 2*np.pi\n",
    "time_step = 200\n",
    "dt = 0.1\n",
    "dx = x/(nx-1)\n",
    "xs = np.linspace(0,x,nx)\n",
    "\n",
    "#init\n",
    "u0 = []\n",
    "dphi = []\n",
    "dp = []\n",
    "def phi(x):\n",
    "    return np.exp((-x**2/4*v)) + np.exp(-(x-2*np.pi)**2/4*v)\n",
    "for x in xs:\n",
    "    dphi.append(derivative(phi, x))\n",
    "for x in xs:\n",
    "    dp.append((np.exp((-x**2/4*v))*(x) + np.exp(-(x-2*np.pi)**2/4*v)*(x-2*np.pi) )/2*v)\n",
    "for d in dp:\n",
    "    u0.append((-2*v *(d/phi(2*np.pi)) +4))\n",
    "# print(dp,dphi)"
   ]
  },
  {
   "cell_type": "code",
   "execution_count": 103,
   "metadata": {},
   "outputs": [
    {
     "data": {
      "text/plain": [
       "[<matplotlib.lines.Line2D at 0x21d860f3490>]"
      ]
     },
     "execution_count": 103,
     "metadata": {},
     "output_type": "execute_result"
    },
    {
     "data": {
      "image/png": "[encoded data removed]",
      "text/plain": [
       "<Figure size 432x288 with 1 Axes>"
      ]
     },
     "metadata": {
      "needs_background": "light"
     },
     "output_type": "display_data"
    }
   ],
   "source": [
    "plt.plot(xs,u0)"
   ]
  }
 ],
 "metadata": {
  "kernelspec": {
   "display_name": "Python 3",
   "language": "python",
   "name": "python3"
  },
  "language_info": {
   "codemirror_mode": {
    "name": "ipython",
    "version": 3
   },
   "file_extension": ".py",
   "mimetype": "text/x-python",
   "name": "python",
   "nbconvert_exporter": "python",
   "pygments_lexer": "ipython3",
   "version": "3.9.7"
  }
 },
 "nbformat": 4,
 "nbformat_minor": 4
}
