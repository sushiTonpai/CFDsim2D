{
 "cells": [
  {
   "cell_type": "markdown",
   "metadata": {},
   "source": [
    "## Non-linear convection \n",
    "$$\n",
    "\\frac{\\partial u}{\\partial t} = u\\frac{\\partial u}{\\partial x}\\\\\n",
    "u^{n+1}_{i} = u^{n}_{i} - u^{n}_{i}\\frac{\\Delta t}{\\Delta x}(u^{n}_{i} - u^{n}_{i-1})\n",
    "$$\n",
    "$ u(x_{0},t_{0})\\Rightarrow u(3,0) = 2$ & $u(x_{0},t_{0}) = 1$ elsewhere"
   ]
  },
  {
   "cell_type": "code",
   "execution_count": 1,
   "metadata": {},
   "outputs": [],
   "source": [
    "import numpy as np\n",
    "import matplotlib.pyplot as plt\n",
    "from matplotlib import animation, rc "
   ]
  },
  {
   "cell_type": "code",
   "execution_count": 64,
   "metadata": {},
   "outputs": [
    {
     "name": "stdout",
     "output_type": "stream",
     "text": [
      "[1. 1. 1. 1. 1. 1. 1. 1. 1. 1. 1. 1. 1. 1. 2. 2. 2. 2. 2. 1. 1. 1. 1. 1.\n",
      " 1. 1. 1. 1. 1. 1. 1. 1. 1. 1. 1. 1. 1. 1. 1. 1. 1. 1. 1. 1. 1. 1. 1. 1.\n",
      " 1. 1.]\n"
     ]
    }
   ],
   "source": [
    "# constants\n",
    "nx = 50\n",
    "x_length = 10\n",
    "time_step = 400\n",
    "dt = 0.1\n",
    "dx = x_length/(nx-1)\n",
    "\n",
    "#init \n",
    "u0 = np.zeros(nx)\n",
    "u0[:] = 1\n",
    "u0[int(3/dx):int(4/dx)] = 2\n",
    "print(u0)"
   ]
  },
  {
   "cell_type": "code",
   "execution_count": 5,
   "metadata": {},
   "outputs": [
    {
     "data": {
      "text/plain": [
       "[<matplotlib.lines.Line2D at 0x20a60227160>]"
      ]
     },
     "execution_count": 5,
     "metadata": {},
     "output_type": "execute_result"
    },
    {
     "data": {
      "image/png": "[encoded data removed]",
      "text/plain": [
       "<Figure size 432x288 with 1 Axes>"
      ]
     },
     "metadata": {
      "needs_background": "light"
     },
     "output_type": "display_data"
    }
   ],
   "source": [
    "xs = np.linspace(0,x_length,nx )\n",
    "plt.plot(xs,u0)"
   ]
  },
  {
   "cell_type": "code",
   "execution_count": 52,
   "metadata": {},
   "outputs": [
    {
     "name": "stdout",
     "output_type": "stream",
     "text": [
      "[0. 0. 0. 0. 0. 0. 0. 0. 0. 0. 0. 0. 0. 0. 2. 2. 2. 2. 2. 0. 0. 0. 0. 0.\n",
      " 0. 0. 0. 0. 0. 0. 0. 0. 0. 0. 0. 0. 0. 0. 0. 0. 0. 0. 0. 0. 0. 0. 0. 0.\n",
      " 0. 0.] [0.    0.    0.    0.    0.    0.    0.    0.    0.    0.    0.    0.\n",
      " 0.    0.    1.804 2.    2.    2.    2.    0.    0.    0.    0.    0.\n",
      " 0.    0.    0.    0.    0.    0.    0.    0.    0.    0.    0.    0.\n",
      " 0.    0.    0.    0.    0.    0.    0.    0.    0.    0.    0.    0.\n",
      " 0.    0.   ]\n"
     ]
    }
   ],
   "source": [
    "# finite difference\n",
    "new_u = u0.copy()\n",
    "\n",
    "for _ in range(2):    \n",
    "    for i in range(1,nx):\n",
    "        u0[i] = new_u[i] - new_u[i]* (dt/dx) * (new_u[i] - new_u[i-1])\n",
    "xs = np.linspace(0,x_length)\n",
    "print(new_u,u0)"
   ]
  },
  {
   "cell_type": "code",
   "execution_count": 65,
   "metadata": {
    "scrolled": true
   },
   "outputs": [
    {
     "name": "stderr",
     "output_type": "stream",
     "text": [
      "MovieWriter ffmpeg unavailable; using Pillow instead.\n"
     ]
    },
    {
     "data": {
      "text/plain": [
       "<function matplotlib.pyplot.show(close=None, block=None)>"
      ]
     },
     "execution_count": 65,
     "metadata": {},
     "output_type": "execute_result"
    },
    {
     "data": {
      "image/png": "[encoded data removed]",
      "text/plain": [
       "<Figure size 432x288 with 1 Axes>"
      ]
     },
     "metadata": {
      "needs_background": "light"
     },
     "output_type": "display_data"
    }
   ],
   "source": [
    "# animate\n",
    "\n",
    "#init \n",
    "u0 = np.zeros(nx)\n",
    "u0[:] = 1\n",
    "u0[int(3/dx):int(4/dx)] = 2\n",
    "#print(u0)\n",
    "\n",
    "fig, ax = plt.subplots()\n",
    "ax = plt.axes(xlim=(0, x_length), ylim=(0, 3))\n",
    "line, = ax.plot([], [], lw=2)\n",
    "\n",
    "def init():\n",
    "    line.set_data([],[])\n",
    "    return (line,)\n",
    "\n",
    "def animate(frame):\n",
    "    xs = np.linspace(0,x_length)\n",
    "    new_u = u0.copy()\n",
    "    for _ in range(time_step):    \n",
    "        for i in range(1,nx):\n",
    "            u0[i] = new_u[i] - new_u[i]* (dt/dx) * (new_u[i] - new_u[i-1])\n",
    "    line.set_data(xs,new_u)\n",
    "    return (line,)\n",
    "\n",
    "anim = animation.FuncAnimation(fig, animate, init_func=init,\n",
    "                               frames=time_step)\n",
    "anim.save('non-linear convection 1d.gif', fps = 20)\n",
    "plt.show"
   ]
  },
  {
   "cell_type": "code",
   "execution_count": null,
   "metadata": {},
   "outputs": [],
   "source": []
  }
 ],
 "metadata": {
  "kernelspec": {
   "display_name": "Python 3",
   "language": "python",
   "name": "python3"
  },
  "language_info": {
   "codemirror_mode": {
    "name": "ipython",
    "version": 3
   },
   "file_extension": ".py",
   "mimetype": "text/x-python",
   "name": "python",
   "nbconvert_exporter": "python",
   "pygments_lexer": "ipython3",
   "version": "3.9.7"
  }
 },
 "nbformat": 4,
 "nbformat_minor": 4
}
