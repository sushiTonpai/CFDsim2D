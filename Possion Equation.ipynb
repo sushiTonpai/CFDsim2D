{
 "cells": [
  {
   "cell_type": "markdown",
   "metadata": {},
   "source": [
    "## Possion equation \n",
    "$$\n",
    "\\frac{\\partial^2 p}{\\partial x^2} + \\frac{\\partial^2 p}{\\partial y^2} = b\n",
    "$$ \n",
    "\n",
    "$$\n",
    "\\frac{{{p^{n}_{i,j + 1}} - 2{p^{n}_{i,j}} + {p^{n}_{i,j - 1}}}}{{{\\Delta y ^2}}} + \\frac{{{p^{n}_{i + 1,j}} - 2{p^{n}_{i,j}} + {p^{n}_{i - 1,j}}}}{{{\\Delta x ^2}}} = b^{n}_{i,j}\\\\\n",
    "$$"
   ]
  },
  {
   "cell_type": "code",
   "execution_count": 1,
   "metadata": {},
   "outputs": [],
   "source": [
    "#%matplotlib notebook\n",
    "import numpy as np\n",
    "import matplotlib.pyplot as plt\n",
    "from matplotlib import animation, cm\n",
    "from mpl_toolkits.mplot3d import Axes3D  "
   ]
  }
 ],
 "metadata": {
  "interpreter": {
   "hash": "b7967f9bc82b2f589afe0098f04c765b0257b76eadb51563b755601ee82b6927"
  },
  "kernelspec": {
   "display_name": "Python 3.8.5 32-bit ('base': conda)",
   "language": "python",
   "name": "python3"
  },
  "language_info": {
   "codemirror_mode": {
    "name": "ipython",
    "version": 3
   },
   "file_extension": ".py",
   "mimetype": "text/x-python",
   "name": "python",
   "nbconvert_exporter": "python",
   "pygments_lexer": "ipython3",
   "version": "3.8.5"
  },
  "orig_nbformat": 4
 },
 "nbformat": 4,
 "nbformat_minor": 2
}
