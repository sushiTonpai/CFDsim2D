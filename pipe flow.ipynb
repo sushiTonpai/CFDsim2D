{
 "metadata": {
  "language_info": {
   "codemirror_mode": {
    "name": "ipython",
    "version": 3
   },
   "file_extension": ".py",
   "mimetype": "text/x-python",
   "name": "python",
   "nbconvert_exporter": "python",
   "pygments_lexer": "ipython3",
   "version": "3.8.5"
  },
  "orig_nbformat": 4,
  "kernelspec": {
   "name": "python3",
   "display_name": "Python 3.8.5 64-bit ('Chayapon Thunsetkul': virtualenv)"
  },
  "interpreter": {
   "hash": "f4206b82d7e7a7a6b4a97799425365c39837d5847b7d5895808b0b8fd6b60d21"
  }
 },
 "nbformat": 4,
 "nbformat_minor": 2,
 "cells": [
  {
   "source": [
    "## channel flow\n",
    "$\n",
    "\\frac{\\partial u}{\\partial t} + u\\frac{\\partial u}{\\partial x} + v\\frac{\\partial u}{\\partial y} = -\\frac{1}{p}\\frac{\\partial p}{\\partial x} + v(\\frac{\\partial^2 u}{\\partial x^2} + \\frac{\\partial^2 u}{\\partial y^2}) + F_{x}\n",
    "$\n",
    ", For x direction \n",
    "\n",
    "$\n",
    "\\frac{\\partial v}{\\partial t} + u\\frac{\\partial v}{\\partial x} + v\\frac{\\partial v}{\\partial y} = -\\frac{1}{p}\\frac{\\partial p}{\\partial y} + v(\\frac{\\partial^2 v}{\\partial x^2} + \\frac{\\partial^2 v}{\\partial y^2})\n",
    "$\n",
    ", For y direction \n",
    "\n",
    "\n",
    "Poisson Equation for pressure and velocity for low viscosity\n",
    "$\n",
    "\\frac{\\partial^2 p}{\\partial x^2} + \\frac{\\partial^2 p}{\\partial y^2} = - \\rho[(\\frac{\\partial u}{\\partial x})^2 + 2\\frac{\\partial u}{\\partial y}\\frac{\\partial v}{\\partial x} + (\\frac{\\partial v}{\\partial y})^2]\n",
    "$\n",
    "\n",
    "let F = 1 (source of flow)\n",
    "\n",
    "IC and BC:\n",
    "\n",
    "$u,v,p = 0$\n",
    "\n",
    "$x = 0$ and $x = 2$ is periodic\n",
    "\n",
    "$y = 0$ and $y = 2$ $\\Rightarrow u = 0, v = 0$\n",
    "\n",
    "$\\frac{\\partial p}{\\partial y} = 0$ at $y = 0,2$"
   ],
   "cell_type": "markdown",
   "metadata": {}
  },
  {
   "cell_type": "code",
   "execution_count": 1,
   "metadata": {},
   "outputs": [],
   "source": [
    "import numpy as np\n",
    "import matplotlib.pyplot as plt\n",
    "from matplotlib import animation, cm\n",
    "from mpl_toolkits.mplot3d import Axes3D  "
   ]
  },
  {
   "cell_type": "code",
   "execution_count": 3,
   "metadata": {},
   "outputs": [],
   "source": [
    "#constants\n",
    "nx = 20\n",
    "ny = 20\n",
    "nt = 100\n",
    "dx = 2 / nx\n",
    "dy = 2 / ny\n",
    "xs = np.linspace(0, 2, nx)\n",
    "ys = np.linspace(0, 2, ny)\n",
    "X, Y = np.meshgrid(xs, ys)\n",
    "\n",
    "rho = 1\n",
    "nu =0.1\n",
    "dt = 0.01\n",
    "\n",
    "#init \n",
    "u = np.zeros((ny, nx))\n",
    "v = np.zeros((ny, nx))\n",
    "p = np.zeros((ny, nx)) \n",
    "b = np.zeros((ny, nx))\n",
    " "
   ]
  },
  {
   "cell_type": "code",
   "execution_count": null,
   "metadata": {},
   "outputs": [],
   "source": [
    "def create_B(b, rho, dt, u, v, dx, dy):\n",
    "    \n",
    "    b[1:-1, 1:-1] = (rho * (1 / dt * \n",
    "                    ((u[1:-1, 2:] - u[1:-1, 0:-2]) / \n",
    "                     (2 * dx) + (v[2:, 1:-1] - v[0:-2, 1:-1]) / (2 * dy)) -\n",
    "                    ((u[1:-1, 2:] - u[1:-1, 0:-2]) / (2 * dx))**2 -\n",
    "                      2 * ((u[2:, 1:-1] - u[0:-2, 1:-1]) / (2 * dy) *\n",
    "                           (v[1:-1, 2:] - v[1:-1, 0:-2]) / (2 * dx))-\n",
    "                          ((v[2:, 1:-1] - v[0:-2, 1:-1]) / (2 * dy))**2))\n",
    "\n",
    "    return b\n",
    "\n",
    "def pressure_poisson(p, dx, dy, b):\n",
    "    p0 = p.copy()\n",
    "    \n",
    "    for q in range(50):\n",
    "        p0 = p.copy()\n",
    "        p[1:-1, 1:-1] = (((p0[1:-1, 2:] + p0[1:-1, 0:-2]) * dy**2 + \n",
    "                          (p0[2:, 1:-1] + p0[0:-2, 1:-1]) * dx**2) /\n",
    "                          (2 * (dx**2 + dy**2)) -\n",
    "                          dx**2 * dy**2 / (2 * (dx**2 + dy**2)) * \n",
    "                          b[1:-1,1:-1])\n",
    "\n",
    "        p[-1, :] = 0       \n",
    "        p[:, -1] = p[:, -2] \n",
    "        p[0, :] = p[1, :]  \n",
    "        p[:, 0] = p[:, 1]   \n",
    "        \n",
    "    return p\n"
   ]
  },
  {
   "cell_type": "code",
   "execution_count": null,
   "metadata": {},
   "outputs": [],
   "source": []
  }
 ]
}