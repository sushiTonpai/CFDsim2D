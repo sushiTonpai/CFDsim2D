{
 "cells": [
  {
   "cell_type": "markdown",
   "metadata": {},
   "source": [
    "## diffusion 1D\n",
    "$$\n",
    "\\frac{\\partial u}{\\partial t} = v \\frac{\\partial^2 u}{\\partial x^2}\n",
    "$$\n",
    "$v$= viscosity $u$ = velocity\n",
    "\n",
    "$$\n",
    "\\frac{u^{n+1}_{i} - u^{n}_{i}}{\\Delta t} = v \\frac{u^{n}_{i+1}-2u^{n}_{i}+u^{n}_{i-1}}{\\Delta x^2} \\\\\n",
    "u^{n+1}_{i} = u^{n}_{i} + v\\frac{\\Delta t}{\\Delta x^2}(u^{n}_{i+1}-2u^{n}_{i}+u^{n}_{i-1})\n",
    "$$\n",
    "$u(x_{0},t_{0})\\Rightarrow u(3,0) = 2, = 1$ elsewhere\n",
    "\n",
    "BC = 1 "
   ]
  },
  {
   "cell_type": "code",
   "execution_count": 2,
   "metadata": {},
   "outputs": [],
   "source": [
    "import numpy as np\n",
    "import matplotlib.pyplot as plt\n",
    "from matplotlib import animation, rc "
   ]
  },
  {
   "cell_type": "code",
   "execution_count": 111,
   "metadata": {},
   "outputs": [
    {
     "name": "stdout",
     "output_type": "stream",
     "text": [
      "[1. 1. 1. 1. 1. 1. 1. 1. 1. 1. 1. 1. 1. 1. 1. 1. 1. 1. 1. 1. 1. 1. 1. 1.\n",
      " 1. 1. 1. 1. 1. 1. 1. 1. 1. 1. 1. 2. 1. 1. 1. 1. 1. 1. 1. 1. 1. 1. 1. 1.\n",
      " 1. 1. 1. 1. 1. 1. 1. 1. 1. 1. 1. 1.] 60 60\n"
     ]
    }
   ],
   "source": [
    "# constants \n",
    "v = 0.01\n",
    "\n",
    "nx = 60\n",
    "x_length = 5\n",
    "time_step = 200\n",
    "dt = 0.1\n",
    "dx = x_length/(nx-1)\n",
    "xs = np.linspace(0,x_length,nx)\n",
    "#init \n",
    "u0 = np.zeros(nx)\n",
    "u0[:] = 1 \n",
    "u0[int(3/dx)] = 2 \n",
    "\n",
    "print(u0,len(xs),len(u0))"
   ]
  },
  {
   "cell_type": "code",
   "execution_count": 112,
   "metadata": {},
   "outputs": [
    {
     "name": "stdout",
     "output_type": "stream",
     "text": [
      "[1. 1. 1. 1. 1. 1. 1. 1. 1. 1. 1. 1. 1. 1. 1. 1. 1. 1. 1. 1. 1. 1. 1. 1.\n",
      " 1. 1. 1. 1. 1. 1. 1. 1. 1. 1. 1. 2. 1. 1. 1. 1. 1. 1. 1. 1. 1. 1. 1. 1.\n",
      " 1. 1. 1. 1. 1. 1. 1. 1. 1. 1. 1. 1.] [1.      1.      1.      1.      1.      1.      1.      1.      1.\n",
      " 1.      1.      1.      1.      1.      1.      1.      1.      1.\n",
      " 1.      1.      1.      1.      1.      1.      1.      1.      1.\n",
      " 1.      1.      1.      1.      1.      1.      1.      1.13924 1.72152\n",
      " 1.13924 1.      1.      1.      1.      1.      1.      1.      1.\n",
      " 1.      1.      1.      1.      1.      1.      1.      1.      1.\n",
      " 1.      1.      1.      1.      1.      1.     ]\n"
     ]
    }
   ],
   "source": [
    "# finite difference\n",
    "u = u0.copy()       \n",
    "for _ in range(2):\n",
    "    for i in range(1,nx-1):\n",
    "        u0[i] = u[i] + v * (dt/dx**2)* (u[i+1]- 2*u[i]+u[i-1])\n",
    "        \n",
    "        \n",
    "print(u,u0)"
   ]
  },
  {
   "cell_type": "code",
   "execution_count": 114,
   "metadata": {},
   "outputs": [
    {
     "name": "stderr",
     "output_type": "stream",
     "text": [
      "MovieWriter ffmpeg unavailable; using Pillow instead.\n"
     ]
    },
    {
     "data": {
      "text/plain": [
       "<function matplotlib.pyplot.show(close=None, block=None)>"
      ]
     },
     "execution_count": 114,
     "metadata": {},
     "output_type": "execute_result"
    },
    {
     "data": {
      "image/png": "[encoded data removed]",
      "text/plain": [
       "<Figure size 432x288 with 1 Axes>"
      ]
     },
     "metadata": {
      "needs_background": "light"
     },
     "output_type": "display_data"
    }
   ],
   "source": [
    "# animate \n",
    "# init \n",
    "u0 = np.zeros(nx)\n",
    "u0[:] = 1 \n",
    "u0[int(3/dx)] = 2 \n",
    "\n",
    "fig, ax = plt.subplots()\n",
    "ax = plt.axes(xlim=(0, x_length), ylim=(0, 2))\n",
    "line, = ax.plot([], [], lw=2)\n",
    "\n",
    "def init():\n",
    "    line.set_data([],[])\n",
    "    return (line,)\n",
    "\n",
    "def animate(frames):\n",
    "    xs = np.linspace(0,x_length,nx)\n",
    "    u = u0.copy()       \n",
    "    for _ in range(time_step):\n",
    "        for i in range(1,nx-1):\n",
    "            u0[i] = u[i] + v * (dt/dx**2)* (u[i+1]- 2*u[i]+u[i-1])\n",
    "    line.set_data(xs,u)\n",
    "    return line,\n",
    "anim = animation.FuncAnimation(fig, animate, init_func=init,\n",
    "                               frames=time_step)\n",
    "anim.save('diffusion 1d.gif', fps = 20)\n",
    "plt.show"
   ]
  }
 ],
 "metadata": {
  "kernelspec": {
   "display_name": "Python 3",
   "language": "python",
   "name": "python3"
  },
  "language_info": {
   "codemirror_mode": {
    "name": "ipython",
    "version": 3
   },
   "file_extension": ".py",
   "mimetype": "text/x-python",
   "name": "python",
   "nbconvert_exporter": "python",
   "pygments_lexer": "ipython3",
   "version": "3.9.7"
  }
 },
 "nbformat": 4,
 "nbformat_minor": 4
}
