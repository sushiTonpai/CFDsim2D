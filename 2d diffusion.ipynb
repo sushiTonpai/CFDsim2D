{
 "cells": [
  {
   "cell_type": "markdown",
   "metadata": {},
   "source": [
    "## 2d diffusion \n",
    "$$\n",
    "\\frac{\\partial u}{\\partial t} = v\\frac{\\partial^2 u}{\\partial x^2} + v\\frac{\\partial^2 u}{\\partial y^2}\n",
    "$$\n",
    "\n",
    "v = viscosity\n",
    "finite diffrence\n",
    "\n",
    "$$\n",
    "\\frac{u^{n+1}_{i,j}-u^{n}_{i,j}}{\\Delta t} = v\\frac{u^{n}_{i+1,j}-2u^{n}_{i,j}+u^{n}_{i-1,j}}{\\Delta x^2} + \\frac{u^{n}_{i,j+1}-2u^{n}_{i,j}+u^{n}_{i,j-1}}{\\Delta y^2}\n",
    "$$\n",
    "\n",
    "$$\n",
    "u^{n+1}_{i,j} = u^{n}_{i,j} + \\Delta t(v\\frac{u^{n}_{i+1,j}-2u^{n}_{i,j}+u^{n}_{i-1,j}}{\\Delta x^2} + \\frac{u^{n}_{i,j+1}-2u^{n}_{i,j}+u^{n}_{i,j-1}}{\\Delta y^2})\n",
    "$$\n"
   ]
  },
  {
   "cell_type": "code",
   "execution_count": 1,
   "metadata": {},
   "outputs": [],
   "source": [
    "import numpy as np\n",
    "import matplotlib.pyplot as plt\n",
    "from matplotlib import animation, cm\n",
    "from mpl_toolkits.mplot3d import Axes3D  "
   ]
  },
  {
   "cell_type": "code",
   "execution_count": 3,
   "metadata": {},
   "outputs": [],
   "source": [
    "#constants \n",
    "v = 1 \n",
    "\n",
    "x_max = 5\n",
    "y_max = 5\n",
    "nx = 20\n",
    "ny = 20\n",
    "dx = x_max / (nx)\n",
    "dy = y_max / (ny)\n",
    "T = 1\n",
    "nt = 200\n",
    "dt = T / nt\n",
    "xs = np.linspace(0, x_max, nx)\n",
    "ys = np.linspace(0, y_max, ny)\n",
    "\n",
    "# init \n",
    "u_init = np.zeros((nx,ny))\n",
    "u_init[:] = 1\n",
    "u_init = \n"
   ]
  }
 ],
 "metadata": {
  "interpreter": {
   "hash": "b7967f9bc82b2f589afe0098f04c765b0257b76eadb51563b755601ee82b6927"
  },
  "kernelspec": {
   "display_name": "Python 3.8.5 32-bit ('base': conda)",
   "language": "python",
   "name": "python3"
  },
  "language_info": {
   "codemirror_mode": {
    "name": "ipython",
    "version": 3
   },
   "file_extension": ".py",
   "mimetype": "text/x-python",
   "name": "python",
   "nbconvert_exporter": "python",
   "pygments_lexer": "ipython3",
   "version": "3.8.5"
  },
  "orig_nbformat": 4
 },
 "nbformat": 4,
 "nbformat_minor": 2
}
